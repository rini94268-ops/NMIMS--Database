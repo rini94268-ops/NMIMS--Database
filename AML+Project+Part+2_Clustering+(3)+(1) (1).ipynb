{
  "nbformat": 4,
  "nbformat_minor": 0,
  "metadata": {
    "kernelspec": {
      "display_name": "Python 3",
      "language": "python",
      "name": "python3"
    },
    "language_info": {
      "codemirror_mode": {
        "name": "ipython",
        "version": 3
      },
      "file_extension": ".py",
      "mimetype": "text/x-python",
      "name": "python",
      "nbconvert_exporter": "python",
      "pygments_lexer": "ipython3",
      "version": "3.7.4"
    },
    "colab": {
      "provenance": []
    }
  },
  "cells": [
    {
      "cell_type": "markdown",
      "metadata": {
        "id": "kOwnfZYa-rL_"
      },
      "source": [
        "## Importing necessary python libraries"
      ]
    },
    {
      "cell_type": "code",
      "metadata": {
        "colab": {
          "resources": {
            "http://localhost:8080/nbextensions/google.colab/files.js": {
              "data": "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",
              "ok": true,
              "headers": [
                [
                  "content-type",
                  "application/javascript"
                ]
              ],
              "status": 200,
              "status_text": ""
            }
          },
          "base_uri": "https://localhost:8080/",
          "height": 72
        },
        "id": "xQFJtzVe-rMM",
        "outputId": "24b3dd18-b4e8-4f1b-f8c0-d2f8b6cb9f98"
      },
      "source": [
        "import numpy as np\n",
        "import pandas as pd\n",
        "import matplotlib.pyplot as plt\n",
        "import seaborn as sns\n",
        "from google.colab import files\n",
        "uploaded = files.upload()"
      ],
      "execution_count": null,
      "outputs": [
        {
          "output_type": "display_data",
          "data": {
            "text/html": [
              "\n",
              "     <input type=\"file\" id=\"files-7fd672d7-4f7e-4038-9ba3-aa68e68c5d13\" name=\"files[]\" multiple disabled\n",
              "        style=\"border:none\" />\n",
              "     <output id=\"result-7fd672d7-4f7e-4038-9ba3-aa68e68c5d13\">\n",
              "      Upload widget is only available when the cell has been executed in the\n",
              "      current browser session. Please rerun this cell to enable.\n",
              "      </output>\n",
              "      <script src=\"/nbextensions/google.colab/files.js\"></script> "
            ],
            "text/plain": [
              "<IPython.core.display.HTML object>"
            ]
          },
          "metadata": {}
        },
        {
          "output_type": "stream",
          "name": "stdout",
          "text": [
            "Saving food_rating.csv to food_rating (1).csv\n"
          ]
        }
      ]
    },
    {
      "cell_type": "markdown",
      "metadata": {
        "id": "ZAINkBWV-rMQ"
      },
      "source": [
        "### Reading the data"
      ]
    },
    {
      "cell_type": "code",
      "metadata": {
        "id": "O2CtKUIH-rMR"
      },
      "source": [
        "data= pd.read_csv(\"food_rating.csv\")"
      ],
      "execution_count": null,
      "outputs": []
    },
    {
      "cell_type": "code",
      "metadata": {
        "colab": {
          "base_uri": "https://localhost:8080/",
          "height": 206
        },
        "id": "0qEubrsV-rMS",
        "outputId": "c0272c88-ebbe-47ea-dd12-94f894d94dc0"
      },
      "source": [
        "data.head()"
      ],
      "execution_count": null,
      "outputs": [
        {
          "output_type": "execute_result",
          "data": {
            "text/html": [
              "<div>\n",
              "<style scoped>\n",
              "    .dataframe tbody tr th:only-of-type {\n",
              "        vertical-align: middle;\n",
              "    }\n",
              "\n",
              "    .dataframe tbody tr th {\n",
              "        vertical-align: top;\n",
              "    }\n",
              "\n",
              "    .dataframe thead th {\n",
              "        text-align: right;\n",
              "    }\n",
              "</style>\n",
              "<table border=\"1\" class=\"dataframe\">\n",
              "  <thead>\n",
              "    <tr style=\"text-align: right;\">\n",
              "      <th></th>\n",
              "      <th>Emp Id</th>\n",
              "      <th>Pasta</th>\n",
              "      <th>Non-Veg Dish</th>\n",
              "      <th>Brownie</th>\n",
              "      <th>Lentils</th>\n",
              "      <th>Fries</th>\n",
              "      <th>Fruits</th>\n",
              "    </tr>\n",
              "  </thead>\n",
              "  <tbody>\n",
              "    <tr>\n",
              "      <th>0</th>\n",
              "      <td>Emp_1</td>\n",
              "      <td>9</td>\n",
              "      <td>77</td>\n",
              "      <td>79</td>\n",
              "      <td>59</td>\n",
              "      <td>53</td>\n",
              "      <td>100</td>\n",
              "    </tr>\n",
              "    <tr>\n",
              "      <th>1</th>\n",
              "      <td>Emp_2</td>\n",
              "      <td>9</td>\n",
              "      <td>62</td>\n",
              "      <td>76</td>\n",
              "      <td>66</td>\n",
              "      <td>54</td>\n",
              "      <td>73</td>\n",
              "    </tr>\n",
              "    <tr>\n",
              "      <th>2</th>\n",
              "      <td>Emp_3</td>\n",
              "      <td>9</td>\n",
              "      <td>50</td>\n",
              "      <td>97</td>\n",
              "      <td>77</td>\n",
              "      <td>35</td>\n",
              "      <td>80</td>\n",
              "    </tr>\n",
              "    <tr>\n",
              "      <th>3</th>\n",
              "      <td>Emp_4</td>\n",
              "      <td>9</td>\n",
              "      <td>68</td>\n",
              "      <td>77</td>\n",
              "      <td>85</td>\n",
              "      <td>61</td>\n",
              "      <td>66</td>\n",
              "    </tr>\n",
              "    <tr>\n",
              "      <th>4</th>\n",
              "      <td>Emp_5</td>\n",
              "      <td>9</td>\n",
              "      <td>98</td>\n",
              "      <td>54</td>\n",
              "      <td>49</td>\n",
              "      <td>80</td>\n",
              "      <td>91</td>\n",
              "    </tr>\n",
              "  </tbody>\n",
              "</table>\n",
              "</div>"
            ],
            "text/plain": [
              "  Emp Id  Pasta  Non-Veg Dish  Brownie  Lentils  Fries  Fruits\n",
              "0  Emp_1      9            77       79       59     53     100\n",
              "1  Emp_2      9            62       76       66     54      73\n",
              "2  Emp_3      9            50       97       77     35      80\n",
              "3  Emp_4      9            68       77       85     61      66\n",
              "4  Emp_5      9            98       54       49     80      91"
            ]
          },
          "metadata": {},
          "execution_count": 21
        }
      ]
    },
    {
      "cell_type": "markdown",
      "metadata": {
        "id": "Dow79JkX-rMS"
      },
      "source": [
        "## We can see that we have only numerical variables and emp_id is just a unique identification number of the employee. Lets set it as index"
      ]
    },
    {
      "cell_type": "code",
      "metadata": {
        "id": "J5OETAHK-rMU"
      },
      "source": [
        "data.set_index('Emp Id',inplace = True)"
      ],
      "execution_count": null,
      "outputs": []
    },
    {
      "cell_type": "markdown",
      "metadata": {
        "id": "yYh0Y8wN-rMV"
      },
      "source": [
        "### descriptive stats of the dataset"
      ]
    },
    {
      "cell_type": "code",
      "metadata": {
        "colab": {
          "base_uri": "https://localhost:8080/",
          "height": 300
        },
        "id": "rR_17BxZ-rMX",
        "outputId": "01e3bf5d-f174-4a40-be87-4dda786fb413"
      },
      "source": [
        "data.describe()"
      ],
      "execution_count": null,
      "outputs": [
        {
          "output_type": "execute_result",
          "data": {
            "text/html": [
              "<div>\n",
              "<style scoped>\n",
              "    .dataframe tbody tr th:only-of-type {\n",
              "        vertical-align: middle;\n",
              "    }\n",
              "\n",
              "    .dataframe tbody tr th {\n",
              "        vertical-align: top;\n",
              "    }\n",
              "\n",
              "    .dataframe thead th {\n",
              "        text-align: right;\n",
              "    }\n",
              "</style>\n",
              "<table border=\"1\" class=\"dataframe\">\n",
              "  <thead>\n",
              "    <tr style=\"text-align: right;\">\n",
              "      <th></th>\n",
              "      <th>Pasta</th>\n",
              "      <th>Non-Veg Dish</th>\n",
              "      <th>Brownie</th>\n",
              "      <th>Lentils</th>\n",
              "      <th>Fries</th>\n",
              "      <th>Fruits</th>\n",
              "    </tr>\n",
              "  </thead>\n",
              "  <tbody>\n",
              "    <tr>\n",
              "      <th>count</th>\n",
              "      <td>249.000000</td>\n",
              "      <td>249.000000</td>\n",
              "      <td>249.000000</td>\n",
              "      <td>249.000000</td>\n",
              "      <td>249.000000</td>\n",
              "      <td>249.000000</td>\n",
              "    </tr>\n",
              "    <tr>\n",
              "      <th>mean</th>\n",
              "      <td>18.987952</td>\n",
              "      <td>109.779116</td>\n",
              "      <td>124.518072</td>\n",
              "      <td>106.377510</td>\n",
              "      <td>97.638554</td>\n",
              "      <td>125.401606</td>\n",
              "    </tr>\n",
              "    <tr>\n",
              "      <th>std</th>\n",
              "      <td>6.616501</td>\n",
              "      <td>32.454115</td>\n",
              "      <td>45.639372</td>\n",
              "      <td>32.132696</td>\n",
              "      <td>41.562888</td>\n",
              "      <td>32.633339</td>\n",
              "    </tr>\n",
              "    <tr>\n",
              "      <th>min</th>\n",
              "      <td>9.000000</td>\n",
              "      <td>50.000000</td>\n",
              "      <td>52.000000</td>\n",
              "      <td>49.000000</td>\n",
              "      <td>35.000000</td>\n",
              "      <td>66.000000</td>\n",
              "    </tr>\n",
              "    <tr>\n",
              "      <th>25%</th>\n",
              "      <td>13.000000</td>\n",
              "      <td>84.000000</td>\n",
              "      <td>89.000000</td>\n",
              "      <td>83.000000</td>\n",
              "      <td>64.000000</td>\n",
              "      <td>97.000000</td>\n",
              "    </tr>\n",
              "    <tr>\n",
              "      <th>50%</th>\n",
              "      <td>19.000000</td>\n",
              "      <td>104.000000</td>\n",
              "      <td>119.000000</td>\n",
              "      <td>103.000000</td>\n",
              "      <td>89.000000</td>\n",
              "      <td>124.000000</td>\n",
              "    </tr>\n",
              "    <tr>\n",
              "      <th>75%</th>\n",
              "      <td>25.000000</td>\n",
              "      <td>132.000000</td>\n",
              "      <td>153.000000</td>\n",
              "      <td>128.000000</td>\n",
              "      <td>123.000000</td>\n",
              "      <td>148.000000</td>\n",
              "    </tr>\n",
              "    <tr>\n",
              "      <th>max</th>\n",
              "      <td>32.000000</td>\n",
              "      <td>203.000000</td>\n",
              "      <td>318.000000</td>\n",
              "      <td>203.000000</td>\n",
              "      <td>218.000000</td>\n",
              "      <td>223.000000</td>\n",
              "    </tr>\n",
              "  </tbody>\n",
              "</table>\n",
              "</div>"
            ],
            "text/plain": [
              "            Pasta  Non-Veg Dish     Brownie     Lentils       Fries      Fruits\n",
              "count  249.000000    249.000000  249.000000  249.000000  249.000000  249.000000\n",
              "mean    18.987952    109.779116  124.518072  106.377510   97.638554  125.401606\n",
              "std      6.616501     32.454115   45.639372   32.132696   41.562888   32.633339\n",
              "min      9.000000     50.000000   52.000000   49.000000   35.000000   66.000000\n",
              "25%     13.000000     84.000000   89.000000   83.000000   64.000000   97.000000\n",
              "50%     19.000000    104.000000  119.000000  103.000000   89.000000  124.000000\n",
              "75%     25.000000    132.000000  153.000000  128.000000  123.000000  148.000000\n",
              "max     32.000000    203.000000  318.000000  203.000000  218.000000  223.000000"
            ]
          },
          "metadata": {},
          "execution_count": 23
        }
      ]
    },
    {
      "cell_type": "markdown",
      "metadata": {
        "id": "BvY2-urV-rMZ"
      },
      "source": [
        "## Visualize the spread of the variables using a boxplot"
      ]
    },
    {
      "cell_type": "code",
      "metadata": {
        "colab": {
          "base_uri": "https://localhost:8080/",
          "height": 557
        },
        "id": "sA_QJS-2-rMa",
        "outputId": "bc51800c-7b8b-47d0-866b-7d3eecb9375a"
      },
      "source": [
        "data.boxplot(figsize = (12,8), grid = True)\n",
        "plt.suptitle('BOXPLOTS TO CHECK THE SPREAD OF VARIABLES', size = 20)"
      ],
      "execution_count": null,
      "outputs": [
        {
          "output_type": "execute_result",
          "data": {
            "text/plain": [
              "Text(0.5, 0.98, 'BOXPLOTS TO CHECK THE SPREAD OF VARIABLES')"
            ]
          },
          "metadata": {},
          "execution_count": 24
        },
        {
          "output_type": "display_data",
          "data": {
            "image/png": "[encoded data removed]",
            "text/plain": [
              "<Figure size 864x576 with 1 Axes>"
            ]
          },
          "metadata": {
            "needs_background": "light"
          }
        }
      ]
    },
    {
      "cell_type": "markdown",
      "metadata": {
        "id": "ElTQWOri-rMb"
      },
      "source": [
        "## Question-1: Do you find any difference in the scale of the variables? Is there an exception? Write your observations from the boxplots."
      ]
    },
    {
      "cell_type": "markdown",
      "metadata": {
        "id": "3hfJIAwmrQcD"
      },
      "source": [
        "### It can be seen from the above graph that there is difference in the scale of variables between Pasta and other food items, the scale of Pasta is in double digits whereas the scale of other food items like Non veg dish, Brownie, Lentils, Fries and fruits is in triple digits. Mean of Pasta is 19 (double digits) whereas mean of other food items is around 100 or more than 100. So in that case Pasta is an exception, also it can be seen that maximum standard deviation is in Brownie and then fries and lowest standard deviation in Pasta as a food item. Also outliers can be observed in Brownie, Lentils and Fries as food items from the box plots above."
      ]
    },
    {
      "cell_type": "markdown",
      "metadata": {
        "id": "7Z1sUxIl-rMc"
      },
      "source": [
        "## Lets check the co-relation matrix to understand the relationships"
      ]
    },
    {
      "cell_type": "code",
      "metadata": {
        "scrolled": true,
        "colab": {
          "base_uri": "https://localhost:8080/",
          "height": 504
        },
        "id": "HClLfujB-rMc",
        "outputId": "faaf06b4-c51c-4e3c-ad09-385566ddc00a"
      },
      "source": [
        "plt.figure(figsize = (10,8) )\n",
        "ax = sns.heatmap(data.corr(),annot = True)\n",
        "bottom, top = ax.get_ylim()\n",
        "ax.set_ylim(bottom + 0.5, top - 0.5)"
      ],
      "execution_count": null,
      "outputs": [
        {
          "output_type": "execute_result",
          "data": {
            "text/plain": [
              "(6.5, -0.5)"
            ]
          },
          "metadata": {},
          "execution_count": 25
        },
        {
          "output_type": "display_data",
          "data": {
            "image/png": "[encoded data removed]",
            "text/plain": [
              "<Figure size 720x576 with 2 Axes>"
            ]
          },
          "metadata": {
            "needs_background": "light"
          }
        }
      ]
    },
    {
      "cell_type": "markdown",
      "metadata": {
        "id": "oY5lDJ30-rMd"
      },
      "source": [
        "## Question-2: What patterns do you observe here? What insights can you draw from the exploratory data analysis so far?"
      ]
    },
    {
      "cell_type": "markdown",
      "metadata": {
        "id": "SUfMUHIzrHfp"
      },
      "source": [
        "### As per the correlation matrix above, it can be seen that Brownie and Fries has negative correlation, also Brownie is negatively correlated with the non veg dishes. Pasta has strong correlation with fruits and then with non veg dishes. Fruits are positively correlated with all dishes and has most correlation with Pastas and then non veg dishes."
      ]
    },
    {
      "cell_type": "code",
      "metadata": {
        "id": "bQdq7lT--rMe"
      },
      "source": [
        "from sklearn.preprocessing import MinMaxScaler\n",
        "\n",
        "data_copy = data[:]\n",
        "scaler = MinMaxScaler()\n",
        "data_copy[data_copy.columns] = scaler.fit_transform(data_copy)"
      ],
      "execution_count": null,
      "outputs": []
    },
    {
      "cell_type": "markdown",
      "metadata": {
        "id": "eIRf7ZM8-rMe"
      },
      "source": [
        "## Question-3: What did we do here? Why did we do it?"
      ]
    },
    {
      "cell_type": "markdown",
      "metadata": {
        "id": "WspY5lduq8_1"
      },
      "source": [
        "### Min max scaler function is used by scaling each feature to a given range.The estimator scales and translates each feature individually such that it is in given range of training set e.g (between zero to one).Normalization and standardization of data is needed to perform clustering analysis and application of other algorithms."
      ]
    },
    {
      "cell_type": "markdown",
      "metadata": {
        "id": "EhQ5gaU2-rMf"
      },
      "source": [
        "### `Hopkins Statistic`"
      ]
    },
    {
      "cell_type": "code",
      "metadata": {
        "id": "A_GsMYUj-rMf"
      },
      "source": [
        "from sklearn.neighbors import NearestNeighbors\n",
        "from random import sample\n",
        "from numpy.random import uniform\n",
        "import numpy as np\n",
        "from math import isnan\n",
        "\n",
        "def my_hopkins(X):\n",
        "    d = X.shape[1]\n",
        "    #d = len(vars) # columns\n",
        "    n = len(X) # rows\n",
        "    m = int(0.1 * n)\n",
        "    nbrs = NearestNeighbors(n_neighbors=1).fit(X.values)\n",
        "\n",
        "    rand_X = sample(range(0, n, 1), m)\n",
        "\n",
        "    ujd = []\n",
        "    wjd = []\n",
        "    for j in range(0, m):\n",
        "        u_dist, _ = nbrs.kneighbors(uniform(np.amin(X,axis=0),np.amax(X,axis=0),d).reshape(1, -1), 2, return_distance=True)\n",
        "        ujd.append(u_dist[0][1])\n",
        "        w_dist, _ = nbrs.kneighbors(X.iloc[rand_X[j]].values.reshape(1, -1), 2, return_distance=True)\n",
        "        wjd.append(w_dist[0][1])\n",
        "\n",
        "    H = sum(ujd) / (sum(ujd) + sum(wjd))\n",
        "    if isnan(H):\n",
        "        print(ujd, wjd)\n",
        "        H = 0\n",
        "\n",
        "    return H"
      ],
      "execution_count": null,
      "outputs": []
    },
    {
      "cell_type": "code",
      "metadata": {
        "colab": {
          "base_uri": "https://localhost:8080/"
        },
        "id": "7dxGW0pm-rMh",
        "outputId": "72a3bde5-a511-4a42-b460-cd6f268639cf"
      },
      "source": [
        "my_hopkins(data_copy)"
      ],
      "execution_count": null,
      "outputs": [
        {
          "output_type": "execute_result",
          "data": {
            "text/plain": [
              "0.8411855493156494"
            ]
          },
          "metadata": {},
          "execution_count": 28
        }
      ]
    },
    {
      "cell_type": "markdown",
      "metadata": {
        "id": "i-hAde__-rMi"
      },
      "source": [
        "## Question-4: According to Hopkins Statistic is there cluster tendency in the data?"
      ]
    },
    {
      "cell_type": "markdown",
      "metadata": {
        "id": "L4VSLX1rq16e"
      },
      "source": [
        "### As per Hopkins statistic above, we use 0.5 as threshold to reject alternative hypothesis.That if H < 0.5 then it is unlikely that data has statistically significant clusters. if value of H is > 0.5 or closer to 1 then that means we can reject null hypothesis and conclude that dataset is significantly clusterable data. In our case since the value of H is greater than 0.5 hence we can conclude that data has cluster tendency."
      ]
    },
    {
      "cell_type": "markdown",
      "metadata": {
        "id": "vGykn9VQ-rMi"
      },
      "source": [
        "## Model building - KMeans"
      ]
    },
    {
      "cell_type": "code",
      "metadata": {
        "id": "856nMtD8-rMi"
      },
      "source": [
        "from sklearn.cluster import KMeans"
      ],
      "execution_count": null,
      "outputs": []
    },
    {
      "cell_type": "markdown",
      "metadata": {
        "id": "-00m0MUM-rMj"
      },
      "source": [
        "### Choosing K by comparing Cost against each K¶"
      ]
    },
    {
      "cell_type": "code",
      "metadata": {
        "colab": {
          "base_uri": "https://localhost:8080/",
          "height": 294
        },
        "id": "pAv7MpKy-rMj",
        "outputId": "f62fabdb-1e5d-40c7-d3e2-36b9ddd2f474"
      },
      "source": [
        "import pylab as pl\n",
        "number_of_clusters = range(1,5)\n",
        "kmeans = [KMeans(n_clusters=i,max_iter=1000,random_state=42) for i in number_of_clusters]\n",
        "score = [-1*kmeans[i].fit(data_copy).score(data_copy) for i in range(len(kmeans))]\n",
        "pl.plot((number_of_clusters),score)\n",
        "pl.xlabel('Number of Clusters')\n",
        "pl.ylabel('Score')\n",
        "pl.title('Elbow Curve')\n",
        "pl.show()"
      ],
      "execution_count": null,
      "outputs": [
        {
          "output_type": "display_data",
          "data": {
            "image/png": "[encoded data removed]",
            "text/plain": [
              "<Figure size 432x288 with 1 Axes>"
            ]
          },
          "metadata": {
            "needs_background": "light"
          }
        }
      ]
    },
    {
      "cell_type": "markdown",
      "metadata": {
        "id": "nQXbJVa7-rMl"
      },
      "source": [
        "## According to the Elbow Curve the optimum No of Clusters is 2. But, your management plans 3 different types of food items to give to the employees. Hence we will be running K-Means with number of clusters as 3\n",
        "\n",
        "## Question-5: Write the code for creating the KMeans clusters with number of clusters = 3.\n",
        "\n",
        "### Hint: Use the function KMeans(n_clusters= no. of clusters ,max_iter=1000,random_state=42)"
      ]
    },
    {
      "cell_type": "code",
      "metadata": {
        "id": "-4OQqEFQ-rMl"
      },
      "source": [
        "km = KMeans(n_clusters = 3 ,max_iter=1000,random_state=42)\n",
        "fitClusters = km.fit_predict(data_copy)"
      ],
      "execution_count": null,
      "outputs": []
    },
    {
      "cell_type": "markdown",
      "metadata": {
        "id": "uDXTbcQ--rMl"
      },
      "source": [
        "### Combining the predicted clusters with the original DF.¶"
      ]
    },
    {
      "cell_type": "code",
      "metadata": {
        "colab": {
          "base_uri": "https://localhost:8080/",
          "height": 237
        },
        "id": "YJ6yeXfD-rMm",
        "outputId": "4a58691f-df6e-4f95-fd4d-528f61c47fff"
      },
      "source": [
        "copy_2 = data_copy.reset_index()\n",
        "clustersDf = pd.DataFrame(fitClusters)\n",
        "data['k_mean_pred'] = fitClusters\n",
        "clustersDf.columns = ['k_mean_pred']\n",
        "combinedDf = pd.concat([copy_2, clustersDf], axis = 1)\n",
        "combinedDf.set_index('Emp Id',inplace = True)\n",
        "combinedDf.head()"
      ],
      "execution_count": null,
      "outputs": [
        {
          "output_type": "execute_result",
          "data": {
            "text/html": [
              "<div>\n",
              "<style scoped>\n",
              "    .dataframe tbody tr th:only-of-type {\n",
              "        vertical-align: middle;\n",
              "    }\n",
              "\n",
              "    .dataframe tbody tr th {\n",
              "        vertical-align: top;\n",
              "    }\n",
              "\n",
              "    .dataframe thead th {\n",
              "        text-align: right;\n",
              "    }\n",
              "</style>\n",
              "<table border=\"1\" class=\"dataframe\">\n",
              "  <thead>\n",
              "    <tr style=\"text-align: right;\">\n",
              "      <th></th>\n",
              "      <th>Pasta</th>\n",
              "      <th>Non-Veg Dish</th>\n",
              "      <th>Brownie</th>\n",
              "      <th>Lentils</th>\n",
              "      <th>Fries</th>\n",
              "      <th>Fruits</th>\n",
              "      <th>k_mean_pred</th>\n",
              "    </tr>\n",
              "    <tr>\n",
              "      <th>Emp Id</th>\n",
              "      <th></th>\n",
              "      <th></th>\n",
              "      <th></th>\n",
              "      <th></th>\n",
              "      <th></th>\n",
              "      <th></th>\n",
              "      <th></th>\n",
              "    </tr>\n",
              "  </thead>\n",
              "  <tbody>\n",
              "    <tr>\n",
              "      <th>Emp_1</th>\n",
              "      <td>0.0</td>\n",
              "      <td>0.176471</td>\n",
              "      <td>0.101504</td>\n",
              "      <td>0.064935</td>\n",
              "      <td>0.098361</td>\n",
              "      <td>0.216561</td>\n",
              "      <td>2</td>\n",
              "    </tr>\n",
              "    <tr>\n",
              "      <th>Emp_2</th>\n",
              "      <td>0.0</td>\n",
              "      <td>0.078431</td>\n",
              "      <td>0.090226</td>\n",
              "      <td>0.110390</td>\n",
              "      <td>0.103825</td>\n",
              "      <td>0.044586</td>\n",
              "      <td>2</td>\n",
              "    </tr>\n",
              "    <tr>\n",
              "      <th>Emp_3</th>\n",
              "      <td>0.0</td>\n",
              "      <td>0.000000</td>\n",
              "      <td>0.169173</td>\n",
              "      <td>0.181818</td>\n",
              "      <td>0.000000</td>\n",
              "      <td>0.089172</td>\n",
              "      <td>2</td>\n",
              "    </tr>\n",
              "    <tr>\n",
              "      <th>Emp_4</th>\n",
              "      <td>0.0</td>\n",
              "      <td>0.117647</td>\n",
              "      <td>0.093985</td>\n",
              "      <td>0.233766</td>\n",
              "      <td>0.142077</td>\n",
              "      <td>0.000000</td>\n",
              "      <td>2</td>\n",
              "    </tr>\n",
              "    <tr>\n",
              "      <th>Emp_5</th>\n",
              "      <td>0.0</td>\n",
              "      <td>0.313725</td>\n",
              "      <td>0.007519</td>\n",
              "      <td>0.000000</td>\n",
              "      <td>0.245902</td>\n",
              "      <td>0.159236</td>\n",
              "      <td>2</td>\n",
              "    </tr>\n",
              "  </tbody>\n",
              "</table>\n",
              "</div>"
            ],
            "text/plain": [
              "        Pasta  Non-Veg Dish   Brownie  ...     Fries    Fruits  k_mean_pred\n",
              "Emp Id                                 ...                                 \n",
              "Emp_1     0.0      0.176471  0.101504  ...  0.098361  0.216561            2\n",
              "Emp_2     0.0      0.078431  0.090226  ...  0.103825  0.044586            2\n",
              "Emp_3     0.0      0.000000  0.169173  ...  0.000000  0.089172            2\n",
              "Emp_4     0.0      0.117647  0.093985  ...  0.142077  0.000000            2\n",
              "Emp_5     0.0      0.313725  0.007519  ...  0.245902  0.159236            2\n",
              "\n",
              "[5 rows x 7 columns]"
            ]
          },
          "metadata": {},
          "execution_count": 36
        }
      ]
    },
    {
      "cell_type": "markdown",
      "metadata": {
        "id": "NfUM1O1X-rMm"
      },
      "source": [
        "## Analysing the segments based on the clusters created by K-means clustering Model"
      ]
    },
    {
      "cell_type": "code",
      "metadata": {
        "colab": {
          "base_uri": "https://localhost:8080/",
          "height": 554
        },
        "id": "EkjwTKOl-rMm",
        "outputId": "04c35878-a755-4b91-d348-5da64bc28562"
      },
      "source": [
        "temp = ['K means clustering']\n",
        "a = 0\n",
        "for x in  ['k_mean_pred']:\n",
        "    plt.figure(figsize = (15,8))\n",
        "    c = 1\n",
        "    for variables in  data.columns[:-1]:\n",
        "        plt.subplot(2,3,c)\n",
        "        sns.boxplot(x= x, y= variables , data= data)\n",
        "        c +=1\n",
        "\n",
        "        plt.subplots_adjust(wspace=0.50)\n",
        "    plt.suptitle('Different Segments of Employees - ' + temp[a])\n",
        "    a +=1"
      ],
      "execution_count": null,
      "outputs": [
        {
          "output_type": "display_data",
          "data": {
            "image/png": "[encoded data removed]",
            "text/plain": [
              "<Figure size 1080x576 with 6 Axes>"
            ]
          },
          "metadata": {
            "needs_background": "light"
          }
        }
      ]
    },
    {
      "cell_type": "markdown",
      "metadata": {
        "id": "WmUUedzk-rMn"
      },
      "source": [
        "## Now that the segments have been created, we need to profile each segment for reporting"
      ]
    },
    {
      "cell_type": "markdown",
      "metadata": {
        "id": "FKOdaDeN-rMn"
      },
      "source": [
        "## Question-6: What are the major differences between Employee Segment 0 and Employee Segment 1?"
      ]
    },
    {
      "cell_type": "markdown",
      "metadata": {
        "id": "rrK6rbVGnyyo"
      },
      "source": [
        "### Segment 0 prefers Lentils and brownie more, whereas Segment 1 prefers Pasta, Non veg,fries and fruits more then Segment 0."
      ]
    },
    {
      "cell_type": "markdown",
      "metadata": {
        "id": "NHrrOwuM-rMo"
      },
      "source": [
        "## Question-7: Which of the employee segments does not show much interest in any kind of food item?"
      ]
    },
    {
      "cell_type": "markdown",
      "metadata": {
        "id": "akNC9R75lE3h"
      },
      "source": [
        "### Segment 2 does not show much interest in any kind of food since Segment 2 has the lowest rating for any kind of food choices.\n",
        "\n"
      ]
    }
  ]
}