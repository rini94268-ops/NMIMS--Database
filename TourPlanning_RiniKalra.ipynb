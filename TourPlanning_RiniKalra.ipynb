{
  "nbformat": 4,
  "nbformat_minor": 0,
  "metadata": {
    "colab": {
      "provenance": []
    },
    "kernelspec": {
      "name": "python3",
      "display_name": "Python 3"
    }
  },
  "cells": [
    {
      "cell_type": "code",
      "metadata": {
        "id": "4rzCXSsjB_GJ"
      },
      "source": [
        "error_value = \"1123456y12512515\""
      ],
      "execution_count": null,
      "outputs": []
    },
    {
      "cell_type": "markdown",
      "metadata": {
        "id": "NkRm3Xc3Uacr"
      },
      "source": [
        "Task 1 - To store travel mode rates and destination distances in appropriate data structures"
      ]
    },
    {
      "cell_type": "code",
      "metadata": {
        "id": "1ycDsXPzSL31"
      },
      "source": [
        "travelmode_dict = { #storing the travel mode rates in travel mode dicitionary\n",
        "    \"flight\":10,\n",
        "    \"train\":5,\n",
        "    \"bus\":20\n",
        "}\n",
        "\n",
        "destination_dict = { #storing the destination distances in destination dicitionary\n",
        "    \"mumbai\":1300,\n",
        "    \"hyderabad\":600,\n",
        "    \"bangalore\":300\n",
        "}"
      ],
      "execution_count": null,
      "outputs": []
    },
    {
      "cell_type": "markdown",
      "metadata": {
        "id": "GTJd5Rf_ujdP"
      },
      "source": [
        "Task 2 - User defined function to get user name."
      ]
    },
    {
      "cell_type": "code",
      "metadata": {
        "id": "XDZ84YqTpyDN"
      },
      "source": [
        "def get_user_name():\n",
        "    while True: #while the condition is true, execute the below command is looped indefinitely\n",
        "        try:\n",
        "            temp_user_name = input(\"Please enter traveler name: \")\n",
        "            if temp_user_name.replace(\" \", \"\").isalpha(): # checking name is consisting of alphabets only.\n",
        "              return temp_user_name\n",
        "            else:\n",
        "              return int(error_value) #returning error value\n",
        "        except ValueError:\n",
        "            print(\"Invalid input. Please try again!\") #error message to user"
      ],
      "execution_count": null,
      "outputs": []
    },
    {
      "cell_type": "markdown",
      "metadata": {
        "id": "tpRgYeYxzeT5"
      },
      "source": [
        "Task 2 - User defined function to get user phone number"
      ]
    },
    {
      "cell_type": "code",
      "metadata": {
        "id": "ZULI8xTvwzZ7"
      },
      "source": [
        "def get_user_phone_number():\n",
        "    while True: #while the condition is true, execute the below command is looped indefinitely\n",
        "        try:\n",
        "            tel_number = input(\"Please enter your phone number: \") #defining the input as phone number of traveler\n",
        "            if len(tel_number) == 10: # checking the telephone number is consisting of integers only.\n",
        "              return int(tel_number)\n",
        "            else:\n",
        "              return int(error_value) #returning error value\n",
        "        except ValueError:\n",
        "            print(\"Invalid input. Please try again!\") #error message to user"
      ],
      "execution_count": null,
      "outputs": []
    },
    {
      "cell_type": "markdown",
      "metadata": {
        "id": "gJK4pxuWMKLW"
      },
      "source": [
        "Task 2 - User defined function to get  number of travellers"
      ]
    },
    {
      "cell_type": "code",
      "metadata": {
        "id": "gswKE6G7MEze"
      },
      "source": [
        "def get_traveler_number():\n",
        "    while True: #while the condition is true, execute the below command is looped indefinitely\n",
        "        try:\n",
        "            travel_num = input(\"Please enter number of travellers: \") #defining the input as number of travelers\n",
        "            if int(travel_num) >= 2:  # checking the number of travelers is consisting of integers only.\n",
        "              return travel_num\n",
        "            else:\n",
        "              return int(error_value) #returning error value\n",
        "        except ValueError:\n",
        "            print(\"Invalid input, number of travellers should be at least 2. Please try again!\") #error message to user"
      ],
      "execution_count": null,
      "outputs": []
    },
    {
      "cell_type": "markdown",
      "metadata": {
        "id": "tn8uSqsu76ue"
      },
      "source": [
        "Task 2 - User defined function to get age of all travelers"
      ]
    },
    {
      "cell_type": "code",
      "metadata": {
        "id": "TMwYTbGV7a4J"
      },
      "source": [
        "def get_traveler_age():\n",
        "    while True: #while the condition is true, execute the below command is looped indefinitely\n",
        "        try:\n",
        "            travel_age = input(\"Please enter traveller age in years: \") #defining the input as age of traveller in number of years\n",
        "            if int(travel_age) >= 0:# checking age is consisting of integers only.\n",
        "              return travel_age\n",
        "            else:\n",
        "              return int(error_value) #returning error value\n",
        "        except ValueError:\n",
        "            print(\"Invalid input. Please try again!\") #error message to user"
      ],
      "execution_count": null,
      "outputs": []
    },
    {
      "cell_type": "markdown",
      "metadata": {
        "id": "Z7z2f33BoE6Q"
      },
      "source": [
        "Task 2 - User defined function to get details of all travelers"
      ]
    },
    {
      "cell_type": "code",
      "metadata": {
        "id": "ur_kaOxW9886"
      },
      "source": [
        "def get_traveler_details():\n",
        "  global name_list #defined name as global variable since we are going to use it outside this function\n",
        "  name_list = []\n",
        "  global age_list #defined age as global variable since we are going to use it outside this function\n",
        "  age_list = []\n",
        "  global child_num #defined as global variable since we are going to use it outside this function\n",
        "  child_num = 0\n",
        "  print(\"Please enter details of the passengers including yourself\")\n",
        "  for i in range(0,int(travellers),1): #for loop is used to execute details of all passengers as per the defined range\n",
        "    print(\"Please enter details for Passengers :\", i+1)\n",
        "    temp_name_variable = get_user_name() #defined as a temporary variable\n",
        "    name_list = name_list+ [temp_name_variable] #temporary variable adds the current name value into global name list, changes with every for loop execution\n",
        "    temp_age_variable = get_traveler_age() #defined as a temporary variable\n",
        "    age_list = age_list + [temp_age_variable] #temporary variable adds the current age value into global age list, changes with every for loop execution\n",
        "    if int(age_list[i]) <= 6:\n",
        "      child_num = child_num +1 #child_num is defined a 0"
      ],
      "execution_count": null,
      "outputs": []
    },
    {
      "cell_type": "markdown",
      "metadata": {
        "id": "iSdA6qvYotZ9"
      },
      "source": [
        "Task 2 - User defined function to get the date of travel"
      ]
    },
    {
      "cell_type": "code",
      "metadata": {
        "id": "1nlik-UDolh-"
      },
      "source": [
        "def get_travel_date():\n",
        "      while True: #while the condition is true, execute the below command is looped indefinitely\n",
        "        try:\n",
        "          global travel_date\n",
        "          travel_date = input(\"Please enter travel date in DDMMYYYY (e.g. 31082021) format: \") #defining the date in DDMMYYYY format\n",
        "          if (int(travel_date)>0) and (len(travel_date) == 8): # checking number is consisting of integers only.\n",
        "            print(\"Travel date successfully captured\")\n",
        "            return travel_date\n",
        "          else:\n",
        "            return int(error_value) #returning error value\n",
        "        except ValueError:\n",
        "          print(\"Invalid input. Please try again!\") #error message to user"
      ],
      "execution_count": null,
      "outputs": []
    },
    {
      "cell_type": "markdown",
      "metadata": {
        "id": "1c6hctRnUPND"
      },
      "source": [
        "Task 3 - User defined function to get mode of travel details of all travelers"
      ]
    },
    {
      "cell_type": "code",
      "metadata": {
        "id": "43Hphfr8AskN"
      },
      "source": [
        "def get_travel_mode():\n",
        "    while True: #while the condition is true, execute the below command is looped indefinitely\n",
        "        try:\n",
        "            mode = input(\"Please enter travel mode [Flight: 1 , Train: 2 , Bus: 3]: \") #defining the mode of travel options\n",
        "            if (int(mode) > 0) and (int(mode) <= 3): # to check mode of travel is between 0 to 3 as per input defined above\n",
        "              return mode\n",
        "            else:\n",
        "              return int(error_value) #returning error value\n",
        "        except ValueError:\n",
        "            print(\"Invalid input. Please try again!\") #error message to user"
      ],
      "execution_count": null,
      "outputs": []
    },
    {
      "cell_type": "code",
      "metadata": {
        "id": "ERc_u9JVPgxd"
      },
      "source": [],
      "execution_count": null,
      "outputs": []
    },
    {
      "cell_type": "markdown",
      "metadata": {
        "id": "mml9zpGgPiUW"
      },
      "source": [
        "# New Section"
      ]
    },
    {
      "cell_type": "code",
      "metadata": {
        "id": "6mG35Dw7PNz2"
      },
      "source": [],
      "execution_count": null,
      "outputs": []
    },
    {
      "cell_type": "code",
      "metadata": {
        "id": "k7EkYRkRPdHL"
      },
      "source": [],
      "execution_count": null,
      "outputs": []
    },
    {
      "cell_type": "markdown",
      "metadata": {
        "id": "Dl3QTngoWeri"
      },
      "source": [
        "Task 3 - User defined function to get destination of travel"
      ]
    },
    {
      "cell_type": "code",
      "metadata": {
        "id": "T18t0IDiA9F9"
      },
      "source": [
        "def get_travel_destination():\n",
        "    while True:\n",
        "        try:\n",
        "            global destination  #defined as global variable since we are going to use it outside this function\n",
        "            destination = input(\"Please enter travel destination [Mumbai: 1 , Bangalore: 2 , Hyderabad: 3]: \")\n",
        "            global round_trip  #defined as global variable since we are going to use it outside this function\n",
        "            round_trip = input(\"Please enter 1 if this is round trip else 0: \")\n",
        "            if (int(destination) > 0) and (int(destination) <= 3): # the range of destination of travel are 1,2 and 3\n",
        "              return destination\n",
        "            else:\n",
        "              return int(error_value) #returning error value\n",
        "        except ValueError:\n",
        "            print(\"Invalid input. Please try again!\") #error message to user"
      ],
      "execution_count": null,
      "outputs": []
    },
    {
      "cell_type": "markdown",
      "metadata": {
        "id": "vA-8paUjUzQA"
      },
      "source": [
        "\n",
        "\n",
        "Task 3 - User defined function to calculate fare for all travelers"
      ]
    },
    {
      "cell_type": "code",
      "metadata": {
        "id": "KFfYhcQABCrk"
      },
      "source": [
        "def travel_fare_calc():\n",
        "  global destination_city #defined as global variable since we are going to use it outside this function\n",
        "  destination_city = \"\"\n",
        "  global cost_per_km  #defined as global variable since we are going to use it outside this function\n",
        "  global dist_km     #defined as global variable since we are going to use it outside this function\n",
        "  global travel_through  #defined as global variable since we are going to use it outside this function\n",
        "  travel_through = \"\"\n",
        "  if (int(travel_mode)==1):\n",
        "    cost_per_km = travelmode_dict[\"flight\"]    #Cost and distances are assigned based on user choice.\n",
        "    travel_through = \"Flight\"\n",
        "  elif (int(travel_mode)==2):\n",
        "    cost_per_km=   travelmode_dict[\"train\"]\n",
        "    travel_through = \"Train\"\n",
        "  elif (int(travel_mode)==3):\n",
        "    cost_per_km = travelmode_dict[\"bus\"]\n",
        "    travel_through = \"Bus\"\n",
        "  if (int(travel_destination)==1):\n",
        "    dist_km = destination_dict[\"mumbai\"]\n",
        "    destination_city = \"Mumbai\"\n",
        "  elif (int(travel_destination)==2):\n",
        "    dist_km = destination_dict[\"bangalore\"]\n",
        "    destination_city = \"Bangalore\"\n",
        "  elif (int(travel_destination)==3):\n",
        "    dist_km = destination_dict[\"hyderabad\"]\n",
        "    destination_city = \"Hyderabad\"\n",
        "  global adult_cost  #defined as global variable since we are going to use it outside this function\n",
        "  adult_cost = (int(travellers) - int(child_num)) * dist_km * cost_per_km  #calculation of adult cost\n",
        "  global child_cost  #defined as global variable since we are going to use it outside this function\n",
        "  child_cost = child_num * dist_km * cost_per_km * 0.5  #calculation of child cost\n",
        "  global total_fare  #defined as global variable since we are going to use it outside this function\n",
        "  total_fare = adult_cost + child_cost # total of adult+child cost\n",
        "  if (int(round_trip) == 1):\n",
        "    total_fare = total_fare*2\n",
        "    global trip_type  #defined as global variable since we are going to use it outside this function\n",
        "    trip_type = \"Round Trip\"\n",
        "  elif (int(round_trip) == 0):\n",
        "    trip_type = \"One Way\"\n",
        "  global total_fare_with_gst  #defined as global variable since we are going to use it outside this function\n",
        "  total_fare_with_gst = total_fare * 1.18   # total fare + GST of 18%"
      ],
      "execution_count": null,
      "outputs": []
    },
    {
      "cell_type": "markdown",
      "metadata": {
        "id": "e5TVNtWSU7Wv"
      },
      "source": [
        "Variables are declared in the below code\n",
        "\n",
        "---\n",
        "\n"
      ]
    },
    {
      "cell_type": "code",
      "metadata": {
        "id": "j9yjR-5_BOA7"
      },
      "source": [
        "def get_system_boot():\n",
        "  global user_name\n",
        "  user_name = get_user_name()\n",
        "\n",
        "  global user_phone_num\n",
        "  user_phone_num = get_user_phone_number()\n",
        "\n",
        "  global travellers\n",
        "  travellers = get_traveler_number()\n",
        "  get_traveler_details()\n",
        "\n",
        "  global travel_destination\n",
        "  travel_destination = get_travel_destination()\n",
        "\n",
        "  global travel_mode\n",
        "  travel_mode = get_travel_mode()\n",
        "\n",
        "  get_travel_date()\n",
        "\n",
        "  travel_fare_calc()\n"
      ],
      "execution_count": null,
      "outputs": []
    },
    {
      "cell_type": "markdown",
      "metadata": {
        "id": "ZzL1cymCaMub"
      },
      "source": [
        "Variables are initialized in the below code"
      ]
    },
    {
      "cell_type": "code",
      "metadata": {
        "id": "ECgyahqNBSh-"
      },
      "source": [
        "def initialization():\n",
        "  global name_list\n",
        "  name_list = []\n",
        "  global age_list\n",
        "  age_list = []\n",
        "  global child_num\n",
        "  child_num = 0\n",
        "  global adult_cost\n",
        "  adult_cost = 0\n",
        "  global child_cost\n",
        "  child_cost = 0\n",
        "  global total_fare\n",
        "  total_fare = 0\n",
        "  global total_fare_with_gst\n",
        "  total_fare_with_gst = 0\n",
        "  global destination\n",
        "  destination = \"\"\n",
        "  global user_name\n",
        "  user_name = \"\""
      ],
      "execution_count": null,
      "outputs": []
    },
    {
      "cell_type": "markdown",
      "metadata": {
        "id": "Rxf9G1bQaaQ5"
      },
      "source": [
        "Task 4 - User defined function for payment mode - Receipt generation"
      ]
    },
    {
      "cell_type": "code",
      "metadata": {
        "id": "YfQgGTN1BWM3"
      },
      "source": [
        "def payment():\n",
        "  global pay_mode\n",
        "  payment_mode = input(\"\\n Please choose your preferred payment mode[Card:1, UPI:2, Cash:3]\")\n",
        "  if (int(payment_mode)==1):\n",
        "    pay_mode = \"Card\"\n",
        "  elif (int(payment_mode)==2):\n",
        "    pay_mode = \"UPI\"\n",
        "  elif (int(payment_mode)==3):\n",
        "    pay_mode = \"Cash\"\n",
        "  print(\"Thank you for making payment through \",pay_mode, \". Have a safe journey !\")"
      ],
      "execution_count": null,
      "outputs": []
    },
    {
      "cell_type": "markdown",
      "metadata": {
        "id": "FW1u9pmOP1Hx"
      },
      "source": [
        "Task 4 - Receipt generation"
      ]
    },
    {
      "cell_type": "code",
      "metadata": {
        "id": "iRdNJTVf_5m_"
      },
      "source": [
        "def receipt_details():\n",
        "  global res\n",
        "  res = {name_list[i]: age_list[i] for i in range(len(name_list))}\n",
        "  print(\"\\n\")\n",
        "  print(\"\\n\")\n",
        "  print(\"\\n *************************RECEIPT***************************\")\n",
        "  print(\"\\n\")\n",
        "  print(\"\\n Booking done by primary passenger: \",user_name)\n",
        "  print(\"\\n Primary passenger phone number: \",user_phone_num)\n",
        "  print(\"\\n Passenger details:\" + str(res) )\n",
        "  print(\"\\n Number of Children: \", child_num)\n",
        "  print(\"\\n Travelling from Chennai to \", destination_city, \" by \", travel_through)\n",
        "  print(\"\\n Total distance between Chennai & \", destination_city, \" is \",dist_km)\n",
        "  print(\"\\n Trip type is: \",trip_type)\n",
        "  print(\"\\n Travel date: \", travel_date)\n",
        "  print(\"\\n Fare per Km: \",cost_per_km)\n",
        "  print(\"\\n Base fare without taxes: \", total_fare, \" for \",trip_type)\n",
        "  print(\"\\n Total fare including 18% GST: \",total_fare_with_gst)\n",
        "  print(\"\\n\")\n",
        "  print(\"\\n\")\n",
        "  print(\"\\n**************************************************************\")\n",
        "  accept = input(\"\\n Please verify the details and press 1 to make payment, else press 0 to start over again\")\n",
        "  if (int(accept) == 1):\n",
        "    payment()\n",
        "  elif (int(accept) != 1):\n",
        "    initialization()\n",
        "    get_system_boot()\n",
        "    receipt_details()"
      ],
      "execution_count": null,
      "outputs": []
    },
    {
      "cell_type": "markdown",
      "metadata": {
        "id": "OwgFHDEKP8iy"
      },
      "source": [
        "Task 4 - Receipt generation"
      ]
    },
    {
      "cell_type": "code",
      "metadata": {
        "id": "IAdKEp4xCUE9"
      },
      "source": [
        "def save_receipt_details_in_data_object():\n",
        "  receipt = {\n",
        "      \"User_Name\" :  user_name ,\n",
        "      \"travellers_details\" : str(res) ,\n",
        "      \"User_phone_num\": user_phone_num,\n",
        "      \"Children_traveling\" : child_num,\n",
        "      \"Destination\": destination_city,\n",
        "      \"Travel_Distance\" : dist_km,\n",
        "      \"Trip_type\":trip_type,\n",
        "      \"Travel_date\":travel_date,\n",
        "      \"Cost_per_km\":cost_per_km,\n",
        "      \"Total_fare_with_gst\":total_fare_with_gst,\n",
        "      \"Payment_mode\":pay_mode\n",
        "  }\n",
        "  print(\"\\n\")\n",
        "  print(\"\\n\")\n",
        "  print(\"\\n\")\n",
        "  print(\"\\n data_object_raw_values\")\n",
        "  print(\"\\n\")\n",
        "  print(receipt)"
      ],
      "execution_count": null,
      "outputs": []
    },
    {
      "cell_type": "markdown",
      "metadata": {
        "id": "RpYRbaaRPZLp"
      },
      "source": [
        "Task 4 - Receipt generation"
      ]
    },
    {
      "cell_type": "code",
      "metadata": {
        "colab": {
          "base_uri": "https://localhost:8080/"
        },
        "id": "xZ1UXNiTBdQZ",
        "outputId": "a264522a-143b-42aa-fbb8-25506e17b0a7"
      },
      "source": [
        "initialization()\n",
        "get_system_boot()\n",
        "receipt_details()\n",
        "save_receipt_details_in_data_object()"
      ],
      "execution_count": null,
      "outputs": [
        {
          "output_type": "stream",
          "text": [
            "Please enter traveler name: Rini\n",
            "Please enter your phone number: 9426892658\n",
            "Please enter number of travellers: 2\n",
            "Please enter details of the passengers including yourself\n",
            "Please enter details for Passengers : 1\n",
            "Please enter traveler name: Anand\n",
            "Please enter traveller age in years: 33\n",
            "Please enter details for Passengers : 2\n",
            "Please enter traveler name: Rini\n",
            "Please enter traveller age in years: 30\n",
            "Please enter travel destination [Mumbai: 1 , Bangalore: 2 , Hyderabad: 3]: 1\n",
            "Please enter 1 if this is round trip else 0: 1\n",
            "Please enter travel mode [Flight: 1 , Train: 2 , Bus: 3]: 1\n",
            "Please enter travel date in DDMMYYYY (e.g. 31082021) format: 31082021\n",
            "Travel date successfully captured\n",
            "\n",
            "\n",
            "\n",
            "\n",
            "\n",
            " *************************RECEIPT***************************\n",
            "\n",
            "\n",
            "\n",
            " Booking done by primary passenger:  Rini\n",
            "\n",
            " Primary passenger phone number:  9426892658\n",
            "\n",
            " Passenger details:{'Anand': '33', 'Rini': '30'}\n",
            "\n",
            " Number of Children:  0\n",
            "\n",
            " Travelling from Chennai to  Mumbai  by  Flight\n",
            "\n",
            " Total distance between Chennai &  Mumbai  is  1300\n",
            "\n",
            " Trip type is:  Round Trip\n",
            "\n",
            " Travel date:  31082021\n",
            "\n",
            " Fare per Km:  10\n",
            "\n",
            " Base fare without taxes:  52000.0  for  Round Trip\n",
            "\n",
            " Total fare including 18% GST:  61360.0\n",
            "\n",
            "\n",
            "\n",
            "\n",
            "\n",
            "**************************************************************\n",
            "\n",
            " Please verify the details and press 1 to make payment, else press 0 to start over again1\n",
            "\n",
            " Please choose your preferred payment mode[Card:1, UPI:2, Cash:3]1\n",
            "Thank you for making payment through  Card . Have a safe journey !\n",
            "\n",
            "\n",
            "\n",
            "\n",
            "\n",
            "\n",
            "\n",
            " data_object_raw_values\n",
            "\n",
            "\n",
            "{'User_Name': 'Rini', 'travellers_details': \"{'Anand': '33', 'Rini': '30'}\", 'User_phone_num': 9426892658, 'Children_traveling': 0, 'Destination': 'Mumbai', 'Travel_Distance': 1300, 'Trip_type': 'Round Trip', 'Travel_date': '31082021', 'Cost_per_km': 10, 'Total_fare_with_gst': 61360.0, 'Payment_mode': 'Card'}\n"
          ],
          "name": "stdout"
        }
      ]
    }
  ]
}